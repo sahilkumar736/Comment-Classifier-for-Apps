{
  "cells": [
    {
      "cell_type": "markdown",
      "metadata": {
        "id": "view-in-github",
        "colab_type": "text"
      },
      "source": [
        "<a href=\"https://colab.research.google.com/github/bhavyaB30/Comment-Classifier-for-Apps/blob/main/Comment_Classifier.ipynb\" target=\"_parent\"><img src=\"https://colab.research.google.com/assets/colab-badge.svg\" alt=\"Open In Colab\"/></a>"
      ]
    },
    {
      "cell_type": "code",
      "execution_count": null,
      "id": "ca80bb57",
      "metadata": {
        "_cell_guid": "b1076dfc-b9ad-4769-8c92-a6c4dae69d19",
        "_uuid": "8f2839f25d086af736a60e9eeb907d3b93b6e0e5",
        "execution": {
          "iopub.execute_input": "2024-04-26T05:35:51.617949Z",
          "iopub.status.busy": "2024-04-26T05:35:51.617544Z",
          "iopub.status.idle": "2024-04-26T05:35:52.500337Z",
          "shell.execute_reply": "2024-04-26T05:35:52.499254Z"
        },
        "papermill": {
          "duration": 0.8946,
          "end_time": "2024-04-26T05:35:52.503065",
          "exception": false,
          "start_time": "2024-04-26T05:35:51.608465",
          "status": "completed"
        },
        "tags": [],
        "id": "ca80bb57"
      },
      "outputs": [],
      "source": [
        "\n",
        "\n",
        "import numpy as np\n",
        "import pandas as pd\n",
        "\n",
        "\n",
        "import os\n",
        "for dirname, _, filenames in os.walk('/reviews.csv'):\n",
        "    for filename in filenames:\n",
        "        print(os.path.join(dirname, filename))\n"
      ]
    },
    {
      "cell_type": "code",
      "execution_count": null,
      "id": "190f3cd9",
      "metadata": {
        "execution": {
          "iopub.execute_input": "2024-04-26T05:35:52.518806Z",
          "iopub.status.busy": "2024-04-26T05:35:52.518290Z",
          "iopub.status.idle": "2024-04-26T05:35:54.751931Z",
          "shell.execute_reply": "2024-04-26T05:35:54.751001Z"
        },
        "papermill": {
          "duration": 2.244166,
          "end_time": "2024-04-26T05:35:54.754453",
          "exception": false,
          "start_time": "2024-04-26T05:35:52.510287",
          "status": "completed"
        },
        "tags": [],
        "id": "190f3cd9"
      },
      "outputs": [],
      "source": [
        "import pandas as pd\n",
        "import numpy as np\n",
        "import matplotlib.pyplot as plt\n",
        "import seaborn as sns\n",
        "\n",
        "plt.style.use('ggplot')\n",
        "\n",
        "import nltk"
      ]
    },
    {
      "cell_type": "code",
      "execution_count": null,
      "id": "5e50cd51",
      "metadata": {
        "execution": {
          "iopub.execute_input": "2024-04-26T05:35:54.769894Z",
          "iopub.status.busy": "2024-04-26T05:35:54.769087Z",
          "iopub.status.idle": "2024-04-26T05:35:55.227463Z",
          "shell.execute_reply": "2024-04-26T05:35:55.226168Z"
        },
        "papermill": {
          "duration": 0.468847,
          "end_time": "2024-04-26T05:35:55.230025",
          "exception": false,
          "start_time": "2024-04-26T05:35:54.761178",
          "status": "completed"
        },
        "tags": [],
        "id": "5e50cd51"
      },
      "outputs": [],
      "source": [
        "df = pd.read_csv('/reviews.csv')\n",
        "print(df.shape)\n",
        "print(f'Number of samples: {df.shape[0]}\\nNumber of features: {df.shape[1]}')"
      ]
    },
    {
      "cell_type": "code",
      "execution_count": null,
      "id": "86a3e396",
      "metadata": {
        "execution": {
          "iopub.execute_input": "2024-04-26T05:35:55.245558Z",
          "iopub.status.busy": "2024-04-26T05:35:55.244790Z",
          "iopub.status.idle": "2024-04-26T05:35:55.268111Z",
          "shell.execute_reply": "2024-04-26T05:35:55.266932Z"
        },
        "papermill": {
          "duration": 0.033506,
          "end_time": "2024-04-26T05:35:55.270385",
          "exception": false,
          "start_time": "2024-04-26T05:35:55.236879",
          "status": "completed"
        },
        "tags": [],
        "id": "86a3e396"
      },
      "outputs": [],
      "source": [
        "df = df.head(10000)\n",
        "df"
      ]
    },
    {
      "cell_type": "code",
      "execution_count": null,
      "id": "ebc2f81e",
      "metadata": {
        "execution": {
          "iopub.execute_input": "2024-04-26T05:35:55.285978Z",
          "iopub.status.busy": "2024-04-26T05:35:55.285576Z",
          "iopub.status.idle": "2024-04-26T05:35:55.306532Z",
          "shell.execute_reply": "2024-04-26T05:35:55.305502Z"
        },
        "papermill": {
          "duration": 0.031229,
          "end_time": "2024-04-26T05:35:55.308541",
          "exception": false,
          "start_time": "2024-04-26T05:35:55.277312",
          "status": "completed"
        },
        "tags": [],
        "id": "ebc2f81e"
      },
      "outputs": [],
      "source": [
        "df.drop(['Time_submitted', 'Reply'], axis=1, inplace=True)\n",
        "df\n"
      ]
    },
    {
      "cell_type": "code",
      "execution_count": null,
      "id": "19cd8b0b",
      "metadata": {
        "execution": {
          "iopub.execute_input": "2024-04-26T05:35:55.324854Z",
          "iopub.status.busy": "2024-04-26T05:35:55.324448Z",
          "iopub.status.idle": "2024-04-26T05:35:55.637378Z",
          "shell.execute_reply": "2024-04-26T05:35:55.636304Z"
        },
        "papermill": {
          "duration": 0.323922,
          "end_time": "2024-04-26T05:35:55.639814",
          "exception": false,
          "start_time": "2024-04-26T05:35:55.315892",
          "status": "completed"
        },
        "tags": [],
        "id": "19cd8b0b"
      },
      "outputs": [],
      "source": [
        "ax = df['Rating'].value_counts().sort_index() \\\n",
        "    .plot(kind='bar',\n",
        "          title='Count of Reviews by Stars',\n",
        "          figsize=(10, 5))\n",
        "ax.set_xlabel('Review Stars')\n",
        "plt.show()"
      ]
    },
    {
      "cell_type": "code",
      "execution_count": null,
      "id": "f5af714e",
      "metadata": {
        "execution": {
          "iopub.execute_input": "2024-04-26T05:35:55.658282Z",
          "iopub.status.busy": "2024-04-26T05:35:55.657761Z",
          "iopub.status.idle": "2024-04-26T05:35:55.698734Z",
          "shell.execute_reply": "2024-04-26T05:35:55.697672Z"
        },
        "papermill": {
          "duration": 0.053648,
          "end_time": "2024-04-26T05:35:55.701243",
          "exception": false,
          "start_time": "2024-04-26T05:35:55.647595",
          "status": "completed"
        },
        "tags": [],
        "id": "f5af714e"
      },
      "outputs": [],
      "source": [
        "import nltk\n",
        "nltk.download('vader_lexicon')\n",
        "\n",
        "from nltk.sentiment import SentimentIntensityAnalyzer\n",
        "sia = SentimentIntensityAnalyzer()\n"
      ]
    },
    {
      "cell_type": "code",
      "execution_count": null,
      "id": "d6b255e0",
      "metadata": {
        "execution": {
          "iopub.execute_input": "2024-04-26T05:35:55.719164Z",
          "iopub.status.busy": "2024-04-26T05:35:55.718768Z",
          "iopub.status.idle": "2024-04-26T05:35:59.505127Z",
          "shell.execute_reply": "2024-04-26T05:35:59.503948Z"
        },
        "papermill": {
          "duration": 3.797872,
          "end_time": "2024-04-26T05:35:59.507469",
          "exception": false,
          "start_time": "2024-04-26T05:35:55.709597",
          "status": "completed"
        },
        "tags": [],
        "id": "d6b255e0"
      },
      "outputs": [],
      "source": [
        "df[\"sentiment\"] = df[\"Review\"].apply(lambda x:sia.polarity_scores(x))\n",
        "df"
      ]
    },
    {
      "cell_type": "code",
      "execution_count": null,
      "id": "9f4ce46b",
      "metadata": {
        "execution": {
          "iopub.execute_input": "2024-04-26T05:35:59.525714Z",
          "iopub.status.busy": "2024-04-26T05:35:59.525347Z",
          "iopub.status.idle": "2024-04-26T05:36:04.597383Z",
          "shell.execute_reply": "2024-04-26T05:36:04.596248Z"
        },
        "papermill": {
          "duration": 5.103283,
          "end_time": "2024-04-26T05:36:04.618919",
          "exception": false,
          "start_time": "2024-04-26T05:35:59.515636",
          "status": "completed"
        },
        "tags": [],
        "id": "9f4ce46b"
      },
      "outputs": [],
      "source": [
        "res = {}\n",
        "for i, row in tqdm(df.iterrows(), total=len(df)):\n",
        "    text = row['Review']\n",
        "\n",
        "    res[text] = sia.polarity_scores(text)\n",
        "res"
      ]
    },
    {
      "cell_type": "code",
      "execution_count": null,
      "id": "97e77f09",
      "metadata": {
        "execution": {
          "iopub.execute_input": "2024-04-26T05:36:04.652355Z",
          "iopub.status.busy": "2024-04-26T05:36:04.651550Z",
          "iopub.status.idle": "2024-04-26T05:36:18.325133Z",
          "shell.execute_reply": "2024-04-26T05:36:18.323977Z"
        },
        "papermill": {
          "duration": 13.6927,
          "end_time": "2024-04-26T05:36:18.327584",
          "exception": false,
          "start_time": "2024-04-26T05:36:04.634884",
          "status": "completed"
        },
        "tags": [],
        "id": "97e77f09"
      },
      "outputs": [],
      "source": [
        "import nltk\n",
        "nltk.download('stopwords')\n",
        "nltk.download('punkt')\n",
        "nltk.download('averaged_perceptron_tagger')\n",
        "nltk.download('wordnet')\n",
        "\n",
        "from nltk.corpus import wordnet\n",
        "from nltk import pos_tag\n",
        "from nltk.corpus import stopwords\n",
        "import string\n",
        "\n",
        "def get_wordnet_pos(pos_tag):\n",
        "    if pos_tag.startswith('J'):\n",
        "        return wordnet.ADJ\n",
        "    elif pos_tag.startswith('V'):\n",
        "        return wordnet.VERB\n",
        "    elif pos_tag.startswith('N'):\n",
        "        return wordnet.NOUN\n",
        "    elif pos_tag.startswith('R'):\n",
        "        return wordnet.ADV\n",
        "    else:\n",
        "        return wordnet.NOUN\n",
        "\n",
        "def clean_text(text):\n",
        "    # lowercase\n",
        "    text = text.lower()\n",
        "    # remove punctuation\n",
        "    text = [word.strip(string.punctuation) for word in text.split(\" \")]\n",
        "    # remove words with numbers\n",
        "    text = [word for word in text if not any(c.isdigit() for c in word)]\n",
        "    # remove stopwords\n",
        "    stop = stopwords.words('english')\n",
        "    text = [x for x in text if x not in stop]\n"
      ]
    },
    {
      "cell_type": "code",
      "execution_count": null,
      "id": "8acac4ee",
      "metadata": {
        "execution": {
          "iopub.execute_input": "2024-04-26T05:36:18.359593Z",
          "iopub.status.busy": "2024-04-26T05:36:18.358841Z",
          "iopub.status.idle": "2024-04-26T05:36:22.071406Z",
          "shell.execute_reply": "2024-04-26T05:36:22.070186Z"
        },
        "papermill": {
          "duration": 3.730746,
          "end_time": "2024-04-26T05:36:22.073556",
          "exception": false,
          "start_time": "2024-04-26T05:36:18.342810",
          "status": "completed"
        },
        "tags": [],
        "id": "8acac4ee"
      },
      "outputs": [],
      "source": [
        "from nltk.sentiment.vader import SentimentIntensityAnalyzer\n",
        "sid = SentimentIntensityAnalyzer()\n",
        "\n",
        "df[\"sentiments\"] = df[\"Review\"].apply(lambda x: sid.polarity_scores(x))\n",
        "df"
      ]
    },
    {
      "cell_type": "code",
      "execution_count": null,
      "id": "d12b3560",
      "metadata": {
        "execution": {
          "iopub.execute_input": "2024-04-26T05:36:22.106088Z",
          "iopub.status.busy": "2024-04-26T05:36:22.105338Z",
          "iopub.status.idle": "2024-04-26T05:36:24.365425Z",
          "shell.execute_reply": "2024-04-26T05:36:24.364319Z"
        },
        "papermill": {
          "duration": 2.278713,
          "end_time": "2024-04-26T05:36:24.367585",
          "exception": false,
          "start_time": "2024-04-26T05:36:22.088872",
          "status": "completed"
        },
        "tags": [],
        "id": "d12b3560"
      },
      "outputs": [],
      "source": [
        "df = pd.concat([df.drop(['sentiments'], axis=1), df['sentiments'].apply(pd.Series)], axis=1)\n",
        "df.head()"
      ]
    },
    {
      "cell_type": "code",
      "execution_count": null,
      "id": "f1444497",
      "metadata": {
        "execution": {
          "iopub.execute_input": "2024-04-26T05:36:24.400146Z",
          "iopub.status.busy": "2024-04-26T05:36:24.399733Z",
          "iopub.status.idle": "2024-04-26T05:36:24.760879Z",
          "shell.execute_reply": "2024-04-26T05:36:24.759798Z"
        },
        "papermill": {
          "duration": 0.379902,
          "end_time": "2024-04-26T05:36:24.762969",
          "exception": false,
          "start_time": "2024-04-26T05:36:24.383067",
          "status": "completed"
        },
        "tags": [],
        "id": "f1444497"
      },
      "outputs": [],
      "source": [
        "ax = sns.barplot(data=df, x='Rating', y='compound')\n",
        "ax.set_title('Compund Score by Spotify Star Review')\n",
        "plt.show()"
      ]
    },
    {
      "cell_type": "code",
      "execution_count": null,
      "id": "7a65c3d2",
      "metadata": {
        "execution": {
          "iopub.execute_input": "2024-04-26T05:36:24.796954Z",
          "iopub.status.busy": "2024-04-26T05:36:24.796050Z",
          "iopub.status.idle": "2024-04-26T05:36:25.814393Z",
          "shell.execute_reply": "2024-04-26T05:36:25.813247Z"
        },
        "papermill": {
          "duration": 1.037714,
          "end_time": "2024-04-26T05:36:25.816576",
          "exception": false,
          "start_time": "2024-04-26T05:36:24.778862",
          "status": "completed"
        },
        "tags": [],
        "id": "7a65c3d2"
      },
      "outputs": [],
      "source": [
        "fig, axs = plt.subplots(1, 3, figsize=(12, 3))\n",
        "sns.barplot(data=df, x='Rating', y='pos', ax=axs[0])\n",
        "sns.barplot(data=df, x='Rating', y='neu', ax=axs[1])\n",
        "sns.barplot(data=df, x='Rating', y='neg', ax=axs[2])\n",
        "axs[0].set_title('Positive')\n",
        "axs[1].set_title('Neutral')\n",
        "axs[2].set_title('Negative')\n",
        "plt.tight_layout()\n",
        "plt.show()"
      ]
    },
    {
      "cell_type": "markdown",
      "id": "227fb427",
      "metadata": {
        "papermill": {
          "duration": 0.016374,
          "end_time": "2024-04-26T05:36:25.849934",
          "exception": false,
          "start_time": "2024-04-26T05:36:25.833560",
          "status": "completed"
        },
        "tags": [],
        "id": "227fb427"
      },
      "source": [
        "Roberta"
      ]
    },
    {
      "cell_type": "code",
      "execution_count": null,
      "id": "e43786b1",
      "metadata": {
        "execution": {
          "iopub.execute_input": "2024-04-26T05:36:25.885459Z",
          "iopub.status.busy": "2024-04-26T05:36:25.885072Z",
          "iopub.status.idle": "2024-04-26T05:36:31.565088Z",
          "shell.execute_reply": "2024-04-26T05:36:31.563886Z"
        },
        "papermill": {
          "duration": 5.70085,
          "end_time": "2024-04-26T05:36:31.567821",
          "exception": false,
          "start_time": "2024-04-26T05:36:25.866971",
          "status": "completed"
        },
        "tags": [],
        "id": "e43786b1"
      },
      "outputs": [],
      "source": [
        "from transformers import AutoTokenizer\n",
        "from transformers import AutoModelForSequenceClassification\n",
        "from scipy.special import softmax"
      ]
    },
    {
      "cell_type": "code",
      "execution_count": null,
      "id": "fca9eece",
      "metadata": {
        "execution": {
          "iopub.execute_input": "2024-04-26T05:36:31.604452Z",
          "iopub.status.busy": "2024-04-26T05:36:31.603477Z",
          "iopub.status.idle": "2024-04-26T05:37:13.512052Z",
          "shell.execute_reply": "2024-04-26T05:37:13.510272Z"
        },
        "papermill": {
          "duration": 41.946893,
          "end_time": "2024-04-26T05:37:13.531908",
          "exception": true,
          "start_time": "2024-04-26T05:36:31.585015",
          "status": "failed"
        },
        "tags": [],
        "id": "fca9eece"
      },
      "outputs": [],
      "source": [
        "tokenizer = AutoTokenizer.from_pretrained(\"cardiffnlp/twitter-roberta-base-sentiment\")\n",
        "model = AutoModelForSequenceClassification.from_pretrained(\"cardiffnlp/twitter-roberta-base-sentiment\")\n"
      ]
    },
    {
      "cell_type": "code",
      "execution_count": null,
      "id": "6e9a58ce",
      "metadata": {
        "execution": {
          "iopub.status.busy": "2024-04-11T15:23:36.841272Z",
          "iopub.status.idle": "2024-04-11T15:23:36.842154Z",
          "shell.execute_reply": "2024-04-11T15:23:36.841867Z",
          "shell.execute_reply.started": "2024-04-11T15:23:36.841840Z"
        },
        "papermill": {
          "duration": null,
          "end_time": null,
          "exception": null,
          "start_time": null,
          "status": "pending"
        },
        "tags": [],
        "id": "6e9a58ce"
      },
      "outputs": [],
      "source": [
        "example= df['Review'][75]\n",
        "encoded_text = tokenizer(example, return_tensors='pt')\n",
        "output = model(**encoded_text)\n",
        "scores = output[0][0].detach().numpy()\n",
        "scores = softmax(scores)\n",
        "scores_dict = {\n",
        "    'roberta_neg' : scores[0],\n",
        "    'roberta_neu' : scores[1],\n",
        "    'roberta_pos' : scores[2]\n",
        "}\n",
        "print(scores_dict)\n"
      ]
    },
    {
      "cell_type": "code",
      "execution_count": null,
      "id": "4c33227a",
      "metadata": {
        "execution": {
          "iopub.status.busy": "2024-04-11T15:23:36.843732Z",
          "iopub.status.idle": "2024-04-11T15:23:36.844542Z",
          "shell.execute_reply": "2024-04-11T15:23:36.844290Z",
          "shell.execute_reply.started": "2024-04-11T15:23:36.844265Z"
        },
        "papermill": {
          "duration": null,
          "end_time": null,
          "exception": null,
          "start_time": null,
          "status": "pending"
        },
        "tags": [],
        "id": "4c33227a"
      },
      "outputs": [],
      "source": [
        "def polarity_scores_roberta(example):\n",
        "    encoded_text = tokenizer(example, return_tensors='pt')\n",
        "    output = model(**encoded_text)\n",
        "    scores = output[0][0].detach().numpy()\n",
        "    scores = softmax(scores)\n",
        "    scores_dict = {\n",
        "        'roberta_neg' : scores[0],\n",
        "        'roberta_neu' : scores[1],\n",
        "        'roberta_pos' : scores[2]\n",
        "    }\n",
        "    return scores_dict"
      ]
    },
    {
      "cell_type": "code",
      "execution_count": null,
      "id": "506153a6",
      "metadata": {
        "execution": {
          "iopub.status.busy": "2024-04-11T15:23:36.846026Z",
          "iopub.status.idle": "2024-04-11T15:23:36.846854Z",
          "shell.execute_reply": "2024-04-11T15:23:36.846577Z",
          "shell.execute_reply.started": "2024-04-11T15:23:36.846553Z"
        },
        "papermill": {
          "duration": null,
          "end_time": null,
          "exception": null,
          "start_time": null,
          "status": "pending"
        },
        "tags": [],
        "id": "506153a6"
      },
      "outputs": [],
      "source": [
        "from transformers import AutoTokenizer, AutoModelForSequenceClassification, pipeline\n",
        "\n",
        "# use a smaller, faster model if you want\n",
        "MODEL_NAME = \"distilroberta-base\"\n",
        "\n",
        "tokenizer = AutoTokenizer.from_pretrained(MODEL_NAME)\n",
        "model = AutoModelForSequenceClassification.from_pretrained(MODEL_NAME)\n",
        "\n",
        "# build sentiment pipeline\n",
        "sentiment_pipeline = pipeline(\n",
        "    \"sentiment-analysis\",\n",
        "    model=model,\n",
        "    tokenizer=tokenizer,\n",
        "    device=-1  # CPU\n",
        ")\n",
        "\n",
        "# Example: apply truncation with max length\n",
        "result = sentiment_pipeline(\n",
        "    \"This is a very long review text ...\" * 100,\n",
        "    truncation=True,\n",
        "    max_length=512   # RoBERTa/DistilRoBERTa usually max 512\n",
        ")\n",
        "\n",
        "print(result)\n"
      ]
    },
    {
      "cell_type": "code",
      "execution_count": null,
      "id": "ef205db5",
      "metadata": {
        "execution": {
          "iopub.status.busy": "2024-04-11T15:23:36.848342Z",
          "iopub.status.idle": "2024-04-11T15:23:36.848988Z",
          "shell.execute_reply": "2024-04-11T15:23:36.848778Z",
          "shell.execute_reply.started": "2024-04-11T15:23:36.848755Z"
        },
        "papermill": {
          "duration": null,
          "end_time": null,
          "exception": null,
          "start_time": null,
          "status": "pending"
        },
        "tags": [],
        "id": "ef205db5"
      },
      "outputs": [],
      "source": [
        "results_df = pd.DataFrame(res).T\n",
        "results_df = results_df.reset_index().rename(columns={'index': 'Rating'})\n",
        "results_df['Rating'] = pd.to_numeric(results_df['Rating'], errors='coerce')\n",
        "results_df = results_df.merge(df, how='left')"
      ]
    },
    {
      "cell_type": "code",
      "execution_count": null,
      "id": "01b22ad0",
      "metadata": {
        "execution": {
          "iopub.status.busy": "2024-04-11T15:23:36.850777Z",
          "iopub.status.idle": "2024-04-11T15:23:36.851313Z",
          "shell.execute_reply": "2024-04-11T15:23:36.851054Z",
          "shell.execute_reply.started": "2024-04-11T15:23:36.851032Z"
        },
        "papermill": {
          "duration": null,
          "end_time": null,
          "exception": null,
          "start_time": null,
          "status": "pending"
        },
        "tags": [],
        "id": "01b22ad0"
      },
      "outputs": [],
      "source": [
        "results_df.columns"
      ]
    },
    {
      "cell_type": "code",
      "execution_count": null,
      "id": "4c099a57",
      "metadata": {
        "execution": {
          "iopub.status.busy": "2024-04-11T15:23:36.853062Z",
          "iopub.status.idle": "2024-04-11T15:23:36.853739Z",
          "shell.execute_reply": "2024-04-11T15:23:36.853465Z",
          "shell.execute_reply.started": "2024-04-11T15:23:36.853441Z"
        },
        "papermill": {
          "duration": null,
          "end_time": null,
          "exception": null,
          "start_time": null,
          "status": "pending"
        },
        "tags": [],
        "id": "4c099a57"
      },
      "outputs": [],
      "source": [
        "import numpy as np\n",
        "\n",
        "results_df['vader_neg'] = pd.to_numeric(results_df['vader_neg'], errors='coerce')  # Optional: Convert to numeric if applicable\n",
        "results_df['vader_neu'] = pd.to_numeric(results_df['vader_neu'], errors='coerce')  # Optional: Convert to numeric if applicable\n",
        "results_df['vader_pos'] = pd.to_numeric(results_df['vader_pos'], errors='coerce')  # Optional: Convert to numeric if applicable\n",
        "results_df['roberta_neg'] = pd.to_numeric(results_df['roberta_neg'], errors='coerce')\n",
        "results_df['roberta_neu'] = pd.to_numeric(results_df['roberta_neu'], errors='coerce')\n",
        "results_df['roberta_pos'] = pd.to_numeric(results_df['roberta_pos'], errors='coerce')\n",
        "\n",
        "results_df.replace([np.inf, -np.inf], np.nan, inplace=True)\n",
        "\n",
        "\n",
        "\n",
        "\n",
        "sns.pairplot(data=results_df,\n",
        "             vars=['vader_neg', 'vader_neu', 'vader_pos',\n",
        "                   'roberta_neg', 'roberta_neu', 'roberta_pos'])\n",
        "plt.show()"
      ]
    },
    {
      "cell_type": "markdown",
      "id": "0d476a6f",
      "metadata": {
        "papermill": {
          "duration": null,
          "end_time": null,
          "exception": null,
          "start_time": null,
          "status": "pending"
        },
        "tags": [],
        "id": "0d476a6f"
      },
      "source": []
    },
    {
      "cell_type": "code",
      "execution_count": null,
      "id": "2c730638",
      "metadata": {
        "execution": {
          "iopub.status.busy": "2024-04-11T15:23:36.855157Z",
          "iopub.status.idle": "2024-04-11T15:23:36.855712Z",
          "shell.execute_reply": "2024-04-11T15:23:36.855444Z",
          "shell.execute_reply.started": "2024-04-11T15:23:36.855422Z"
        },
        "papermill": {
          "duration": null,
          "end_time": null,
          "exception": null,
          "start_time": null,
          "status": "pending"
        },
        "tags": [],
        "id": "2c730638"
      },
      "outputs": [],
      "source": [
        "Transformer Piperline"
      ]
    },
    {
      "cell_type": "code",
      "execution_count": null,
      "id": "472588b1",
      "metadata": {
        "execution": {
          "iopub.status.busy": "2024-04-11T15:23:36.857561Z",
          "iopub.status.idle": "2024-04-11T15:23:36.858007Z",
          "shell.execute_reply": "2024-04-11T15:23:36.857837Z",
          "shell.execute_reply.started": "2024-04-11T15:23:36.857819Z"
        },
        "papermill": {
          "duration": null,
          "end_time": null,
          "exception": null,
          "start_time": null,
          "status": "pending"
        },
        "tags": [],
        "id": "472588b1"
      },
      "outputs": [],
      "source": [
        "from transformers import pipeline\n",
        "\n",
        "# create sentiment-analysis pipeline\n",
        "sent_pipeline = pipeline(\"sentiment-analysis\")\n",
        "\n",
        "# run on one text\n",
        "print(sent_pipeline(\"Nice app! It will be great if it has a Korean romanization to all Korean songs so I can sing along with it 😊\"))\n",
        "\n",
        "# run on multiple reviews\n",
        "reviews = [\n",
        "    \"I love this app!\",\n",
        "    \"This app crashes too often.\",\n",
        "    \"It's okay, could be better.\"\n",
        "]\n",
        "\n",
        "print(sent_pipeline(reviews))\n"
      ]
    },
    {
      "cell_type": "code",
      "execution_count": null,
      "id": "2d5153e2",
      "metadata": {
        "execution": {
          "iopub.status.busy": "2024-04-11T15:23:36.860018Z",
          "iopub.status.idle": "2024-04-11T15:23:36.860942Z",
          "shell.execute_reply": "2024-04-11T15:23:36.860684Z",
          "shell.execute_reply.started": "2024-04-11T15:23:36.860659Z"
        },
        "papermill": {
          "duration": null,
          "end_time": null,
          "exception": null,
          "start_time": null,
          "status": "pending"
        },
        "tags": [],
        "id": "2d5153e2"
      },
      "outputs": [],
      "source": [
        "import nltk\n",
        "from nltk.sentiment import SentimentIntensityAnalyzer\n",
        "\n",
        "# download once\n",
        "nltk.download(\"vader_lexicon\")\n",
        "\n",
        "sia = SentimentIntensityAnalyzer()\n",
        "\n",
        "while True:\n",
        "    text = input(\"Enter a review (or type 'quit' to stop): \")\n",
        "    if text.lower() == \"quit\":\n",
        "        break\n",
        "    score = sia.polarity_scores(text)[\"compound\"]\n",
        "    if score >= 0.05:\n",
        "        sentiment = \"Positive\"\n",
        "    elif score <= -0.05:\n",
        "        sentiment = \"Negative\"\n",
        "    else:\n",
        "        sentiment = \"Neutral\"\n",
        "    print(f\"Sentiment → {sentiment} (score={score})\\n\")\n"
      ]
    },
    {
      "cell_type": "code",
      "source": [
        "from transformers import pipeline\n",
        "\n",
        "sent_pipeline = pipeline(\"sentiment-analysis\")\n",
        "\n",
        "while True:\n",
        "    text = input(\"Enter a review (or type 'quit' to stop): \")\n",
        "    if text.lower() == \"quit\":\n",
        "        break\n",
        "    result = sent_pipeline(text)[0]\n",
        "    print(f\"Sentiment → {result['label']} (score={result['score']:.4f})\\n\")\n"
      ],
      "metadata": {
        "id": "-kFktGuYXhNW"
      },
      "id": "-kFktGuYXhNW",
      "execution_count": null,
      "outputs": []
    },
    {
      "cell_type": "markdown",
      "id": "4ff17a4e",
      "metadata": {
        "papermill": {
          "duration": null,
          "end_time": null,
          "exception": null,
          "start_time": null,
          "status": "pending"
        },
        "tags": [],
        "id": "4ff17a4e"
      },
      "source": []
    }
  ],
  "metadata": {
    "kaggle": {
      "accelerator": "none",
      "dataSources": [
        {
          "datasetId": 2331118,
          "sourceId": 3926359,
          "sourceType": "datasetVersion"
        },
        {
          "datasetId": 3486076,
          "sourceId": 6087931,
          "sourceType": "datasetVersion"
        }
      ],
      "dockerImageVersionId": 30684,
      "isGpuEnabled": false,
      "isInternetEnabled": false,
      "language": "python",
      "sourceType": "notebook"
    },
    "kernelspec": {
      "display_name": "Python 3",
      "language": "python",
      "name": "python3"
    },
    "language_info": {
      "codemirror_mode": {
        "name": "ipython",
        "version": 3
      },
      "file_extension": ".py",
      "mimetype": "text/x-python",
      "name": "python",
      "nbconvert_exporter": "python",
      "pygments_lexer": "ipython3",
      "version": "3.10.13"
    },
    "papermill": {
      "default_parameters": {},
      "duration": 87.045332,
      "end_time": "2024-04-26T05:37:15.963413",
      "environment_variables": {},
      "exception": true,
      "input_path": "__notebook__.ipynb",
      "output_path": "__notebook__.ipynb",
      "parameters": {},
      "start_time": "2024-04-26T05:35:48.918081",
      "version": "2.5.0"
    },
    "colab": {
      "provenance": [],
      "include_colab_link": true
    }
  },
  "nbformat": 4,
  "nbformat_minor": 5
}